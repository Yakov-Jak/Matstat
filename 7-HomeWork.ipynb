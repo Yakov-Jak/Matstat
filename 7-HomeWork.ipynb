{
 "cells": [
  {
   "cell_type": "code",
   "execution_count": 1,
   "metadata": {},
   "outputs": [],
   "source": [
    "import numpy as np"
   ]
  },
  {
   "cell_type": "code",
   "execution_count": 36,
   "metadata": {},
   "outputs": [],
   "source": [
    "from scipy import stats"
   ]
  },
  {
   "cell_type": "markdown",
   "metadata": {},
   "source": [
    "## Задача 1\n",
    "\n",
    "Дана матрица объект-признак\n",
    "\n",
    "X = [[ 1.22401313, 2.30868478, 3.03636353, 2.69287214],\n",
    "[-0.18757272, 1.30337355, 5.12093014, 3.46363202],\n",
    "[-0.81094525, 1.82463398, 5.79686488, 1.86159445],\n",
    "[ 0.75129018, 2.67392052, 3.65529809, 1.66746094],\n",
    "[ 0.00972362, 1.97367255, 2.50594319, 1.69755173],\n",
    "[-0.62972637, 0.77750764, 2.84124027, 4.54410559],\n",
    "[ 2.29536229, 1.81206697, 1.95026215, 1.51874636],\n",
    "[ 0.0920418 , 2.26971361, 7.47708735, 2.61081203],\n",
    "[ 2.39252799, 3.17563985, 3.61420599, 5.10773362],\n",
    "[ 0.54983815, 2.87988651, 1.65752765, 1.59635987]]\n",
    "\n",
    "и значения целевой переменной\n",
    "\n",
    "y = [ 9.26193358, 9.700363 , 8.67214805, 8.74796974, 6.18689108,\n",
    "7.53312713, 7.57643777, 12.44965478, 14.29010746, 6.68361218]\n",
    "\n",
    "1. Подберите два признака (из четырёх) так, чтобы уровень линейной зависимости целевой переменной от значений этих признаков был максимальным. Другими словами, модель линейной регрессии на этих признаках должна давать наилучший результат.\n",
    "2. Является ли значимым получившееся уравнение регрессии?"
   ]
  },
  {
   "cell_type": "raw",
   "metadata": {},
   "source": [
    "Задаем параметры признаков"
   ]
  },
  {
   "cell_type": "code",
   "execution_count": 4,
   "metadata": {},
   "outputs": [],
   "source": [
    "x = np.array([[1.22401313, 2.30868478, 3.03636353, 2.69287214],\n",
    "             [-0.18757272, 1.30337355, 5.12093014, 3.46363202],\n",
    "             [-0.81094525, 1.82463398, 5.79686488, 1.86159445],\n",
    "             [0.75129018, 2.67392052, 3.65529809, 1.66746094],\n",
    "             [0.00972362, 1.97367255, 2.50594319, 1.69755173],\n",
    "             [-0.62972637, 0.77750764, 2.84124027, 4.54410559],\n",
    "             [2.29536229, 1.81206697, 1.95026215, 1.51874636],\n",
    "             [0.0920418 , 2.26971361, 7.47708735, 2.61081203],\n",
    "             [2.39252799, 3.17563985, 3.61420599, 5.10773362],\n",
    "             [0.54983815, 2.87988651, 1.65752765, 1.59635987]])\n",
    "\n",
    "y = np.array([9.26193358,\n",
    "              9.700363,\n",
    "              8.67214805,\n",
    "              8.74796974,\n",
    "              6.18689108,\n",
    "              7.53312713,\n",
    "              7.57643777,\n",
    "              12.44965478,\n",
    "              14.29010746,\n",
    "              6.68361218])"
   ]
  },
  {
   "cell_type": "raw",
   "metadata": {},
   "source": [
    "Задаём функцию вычисления суммы квадратов для определения коэффициента детерминации"
   ]
  },
  {
   "cell_type": "code",
   "execution_count": 34,
   "metadata": {},
   "outputs": [],
   "source": [
    "def sum_of_squares(samples):\n",
    "    return ((samples - samples.mean()) ** 2).sum()"
   ]
  },
  {
   "cell_type": "code",
   "execution_count": null,
   "metadata": {},
   "outputs": [],
   "source": [
    "Создаём функцию определения коэффициентов линеаризации, а затем вычисления коэффициента детерминации."
   ]
  },
  {
   "cell_type": "code",
   "execution_count": 28,
   "metadata": {},
   "outputs": [],
   "source": [
    "def linearis_quality(mx, my, ftr_a, ftr_b):\n",
    "    ones = np.ones((mx.shape[0], 1))\n",
    "    clm = [ftr_a, ftr_b]\n",
    "    mx = mx[:, clm]\n",
    "    mx = np.hstack((ones, mx))\n",
    "    XTX = mx.T.dot(mx)\n",
    "    # np.linalg.det(XTX)\n",
    "    XTX_inv = np.linalg.inv(XTX)\n",
    "    b = XTX_inv.dot(mx.T).dot(my)\n",
    "    z2 = mx.dot(b)\n",
    "    R2 = 1 - ((my - z2)**2).sum() / sum_of_squares(my)\n",
    "    return R2"
   ]
  },
  {
   "cell_type": "code",
   "execution_count": 30,
   "metadata": {},
   "outputs": [
    {
     "name": "stdout",
     "output_type": "stream",
     "text": [
      "0.18113594742585215 0.7634246238793152 0.45329667831440756 0.5479482734039012 0.6062055761129932 0.6224419876505322\n"
     ]
    }
   ],
   "source": [
    "r1 = linearis_quality(x, y, 0, 1)\n",
    "r2 = linearis_quality(x, y, 0, 2)\n",
    "r3 = linearis_quality(x, y, 0, 3)\n",
    "r4 = linearis_quality(x, y, 1, 2)\n",
    "r5 = linearis_quality(x, y, 1, 3)\n",
    "r6 = linearis_quality(x, y, 2, 3)\n",
    "print(r1, r2, r3, r4, r5, r6)"
   ]
  },
  {
   "cell_type": "raw",
   "metadata": {},
   "source": [
    "Определим значимость.\n",
    "Для каждого из набора признаков коэффициенты к1 и к2 будут одинаковыми"
   ]
  },
  {
   "cell_type": "code",
   "execution_count": 35,
   "metadata": {},
   "outputs": [],
   "source": [
    "k1 = 2\n",
    "k2 = 10 - 2 - 1"
   ]
  },
  {
   "cell_type": "code",
   "execution_count": 37,
   "metadata": {},
   "outputs": [
    {
     "data": {
      "text/plain": [
       "4.73741412777588"
      ]
     },
     "execution_count": 37,
     "metadata": {},
     "output_type": "execute_result"
    }
   ],
   "source": [
    "alpha = 0.05\n",
    "\n",
    "t = stats.f.ppf(1 - alpha, k1, k2)\n",
    "t"
   ]
  },
  {
   "cell_type": "code",
   "execution_count": 44,
   "metadata": {},
   "outputs": [],
   "source": [
    "def znach(R, K1, K2):\n",
    "    F = (R / K1) / ((1 - R) / K2)\n",
    "    return F"
   ]
  },
  {
   "cell_type": "code",
   "execution_count": 45,
   "metadata": {},
   "outputs": [
    {
     "name": "stdout",
     "output_type": "stream",
     "text": [
      "0.7742137586789185 11.29443912292265 2.9020097577033566 4.242476787677875 5.387886134731737 5.770098595498481\n"
     ]
    }
   ],
   "source": [
    "f1 = znach(r1, k1, k2)\n",
    "f2 = znach(r2, k1, k2)\n",
    "f3 = znach(r3, k1, k2)\n",
    "f4 = znach(r4, k1, k2)\n",
    "f5 = znach(r5, k1, k2)\n",
    "f6 = znach(r6, k1, k2)\n",
    "print(f1, f2, f3, f4, f5, f6)"
   ]
  },
  {
   "cell_type": "raw",
   "metadata": {},
   "source": [
    "Видим, что статистическую значимость имеют модели под номерами 2, 5, 6."
   ]
  },
  {
   "cell_type": "markdown",
   "metadata": {},
   "source": [
    "## Задача 2\n",
    "\n",
    "Даны значения величины заработной платы заемщиков банка (salary) и значения их поведенческого кредитного скоринга (scoring):\n",
    "\n",
    "salary = [35, 45, 190, 200, 40, 70, 54, 150, 120, 110]\n",
    "\n",
    "scoring = [401, 574, 874, 919, 459, 739, 653, 902, 746, 832]\n",
    "\n",
    "Возьмём в качестве признака значение salary, а в качестве целевой переменной - scoring.\n",
    "\n",
    "1. Найдите коэффициенты линейной регрессии с помощью формул для парной регрессии, а затем с помощью метода наименьших квадратов.\n",
    "2. Постройте scatter plot по данным и отметьте на нём прямую линейной регрессии, полученную в п. 1.\n",
    "3. Посчитайте коэффициент детерминации.\n",
    "4. Оцените построенное уравнение регрессии с помощью F-критерия Фишера.\n",
    "5. (доп) Посчитать среднюю ошибку аппроксимации"
   ]
  },
  {
   "cell_type": "code",
   "execution_count": 95,
   "metadata": {},
   "outputs": [],
   "source": [
    "slr1 = np.array([35, 45, 190, 200, 40, 70, 54, 150, 120, 110])\n",
    "scr1 = np.array([401, 574, 874, 919, 459, 739, 653, 902, 746, 832])"
   ]
  },
  {
   "cell_type": "code",
   "execution_count": 79,
   "metadata": {},
   "outputs": [],
   "source": [
    "slr = np.array([[35, 45, 190, 200, 40, 70, 54, 150, 120, 110]])\n",
    "\n",
    "scr = np.array([[401, 574, 874, 919, 459, 739, 653, 902, 746, 832]])"
   ]
  },
  {
   "cell_type": "raw",
   "metadata": {},
   "source": [
    "Коэффициенты парной регрессии"
   ]
  },
  {
   "cell_type": "code",
   "execution_count": 96,
   "metadata": {},
   "outputs": [
    {
     "data": {
      "text/plain": [
       "(444.1773573243596, 2.620538882402765)"
      ]
     },
     "execution_count": 96,
     "metadata": {},
     "output_type": "execute_result"
    }
   ],
   "source": [
    "b1 = (np.mean(slr1 * scr1) - np.mean(slr1) * np.mean(scr1)) / (np.mean(slr1 ** 2) - np.mean(slr1) ** 2)\n",
    "b0 = np.mean(scr1) - b1 * np.mean(slr1)\n",
    "\n",
    "b0, b1"
   ]
  },
  {
   "cell_type": "code",
   "execution_count": null,
   "metadata": {},
   "outputs": [],
   "source": [
    "Коэффициенты по методу квадратов"
   ]
  },
  {
   "cell_type": "code",
   "execution_count": 80,
   "metadata": {},
   "outputs": [],
   "source": [
    "slrt = slr.transpose()\n",
    "scrt = scr.transpose()"
   ]
  },
  {
   "cell_type": "code",
   "execution_count": 81,
   "metadata": {},
   "outputs": [],
   "source": [
    "ones = np.ones((slrt.shape[0], 1))"
   ]
  },
  {
   "cell_type": "code",
   "execution_count": 82,
   "metadata": {},
   "outputs": [],
   "source": [
    "x = np.hstack((ones, slrt))"
   ]
  },
  {
   "cell_type": "code",
   "execution_count": 85,
   "metadata": {},
   "outputs": [
    {
     "name": "stdout",
     "output_type": "stream",
     "text": [
      "[[444.17735732]\n",
      " [  2.62053888]]\n"
     ]
    }
   ],
   "source": [
    "XTX2 = x.T.dot(x)\n",
    "XTX2_inv = np.linalg.inv(XTX2)\n",
    "b = XTX2_inv.dot(x.T).dot(scrt)\n",
    "print(b)"
   ]
  },
  {
   "cell_type": "code",
   "execution_count": null,
   "metadata": {},
   "outputs": [],
   "source": [
    "Определяем коэффициент детерминации"
   ]
  },
  {
   "cell_type": "code",
   "execution_count": 91,
   "metadata": {},
   "outputs": [
    {
     "data": {
      "text/plain": [
       "0.7876386635293685"
      ]
     },
     "execution_count": 91,
     "metadata": {},
     "output_type": "execute_result"
    }
   ],
   "source": [
    "z3 = x.dot(b)\n",
    "R3 = 1 - ((scrt - z3)**2).sum() / sum_of_squares(scrt)\n",
    "R3"
   ]
  },
  {
   "cell_type": "code",
   "execution_count": null,
   "metadata": {},
   "outputs": [],
   "source": [
    "Построение графика линеаризации"
   ]
  },
  {
   "cell_type": "code",
   "execution_count": 92,
   "metadata": {},
   "outputs": [],
   "source": [
    "from matplotlib import pyplot as plt\n",
    "plt.style.use('seaborn-whitegrid')"
   ]
  },
  {
   "cell_type": "code",
   "execution_count": 100,
   "metadata": {},
   "outputs": [
    {
     "data": {
      "image/png": "[encoded data removed]",
      "text/plain": [
       "<Figure size 432x288 with 1 Axes>"
      ]
     },
     "metadata": {},
     "output_type": "display_data"
    }
   ],
   "source": [
    "ox = slr1\n",
    "oy = b0 + b1 * ox\n",
    "\n",
    "plt.scatter(slr1, scr1)\n",
    "plt.plot(ox, oy, color='red', alpha=0.5)\n",
    "\n",
    "plt.xlabel('Salary')\n",
    "plt.ylabel('Scoring');"
   ]
  },
  {
   "cell_type": "raw",
   "metadata": {},
   "source": [
    "Находим Ф-коэффициент Фишера"
   ]
  },
  {
   "cell_type": "code",
   "execution_count": 104,
   "metadata": {},
   "outputs": [],
   "source": [
    "k0 = 1\n",
    "k1 = slr1.shape[0] - k0 - 1"
   ]
  },
  {
   "cell_type": "code",
   "execution_count": 106,
   "metadata": {
    "scrolled": true
   },
   "outputs": [
    {
     "data": {
      "text/plain": [
       "29.67164085966449"
      ]
     },
     "execution_count": 106,
     "metadata": {},
     "output_type": "execute_result"
    }
   ],
   "source": [
    "ff = znach(R3, k0, k1)\n",
    "ff"
   ]
  },
  {
   "cell_type": "code",
   "execution_count": 107,
   "metadata": {},
   "outputs": [
    {
     "data": {
      "text/plain": [
       "5.317655071578714"
      ]
     },
     "execution_count": 107,
     "metadata": {},
     "output_type": "execute_result"
    }
   ],
   "source": [
    "alpha = 0.05\n",
    "\n",
    "t = stats.f.ppf(1 - alpha, k0, k1)\n",
    "t"
   ]
  },
  {
   "cell_type": "raw",
   "metadata": {},
   "source": [
    "Значение ф-коэффициента Фишера больше начала границы критической области, поэтому линеаризацию можно считать значимой."
   ]
  }
 ],
 "metadata": {
  "kernelspec": {
   "display_name": "Python 3",
   "language": "python",
   "name": "python3"
  },
  "language_info": {
   "codemirror_mode": {
    "name": "ipython",
    "version": 3
   },
   "file_extension": ".py",
   "mimetype": "text/x-python",
   "name": "python",
   "nbconvert_exporter": "python",
   "pygments_lexer": "ipython3",
   "version": "3.8.5"
  }
 },
 "nbformat": 4,
 "nbformat_minor": 4
}
