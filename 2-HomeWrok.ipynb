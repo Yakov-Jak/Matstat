{
 "cells": [
  {
   "cell_type": "code",
   "execution_count": 9,
   "metadata": {},
   "outputs": [],
   "source": [
    "import numpy as np\n",
    "from math import factorial"
   ]
  },
  {
   "cell_type": "code",
   "execution_count": 10,
   "metadata": {},
   "outputs": [],
   "source": [
    "def combinations(n, k):\n",
    "    return int(factorial(n) / (factorial(k) * factorial(n - k)))"
   ]
  },
  {
   "cell_type": "markdown",
   "metadata": {},
   "source": [
    "## Задание 1\n",
    "Контрольная работа состоит из пяти вопросов. На каждый вопрос приведено четыре варианта ответа, один из которых правильный. Составьте закон распределения числа правильных ответов при простом угадывании. Найдите M(X), D(X)."
   ]
  },
  {
   "cell_type": "raw",
   "metadata": {},
   "source": [
    "Имеем 6 вариантов исходов: угадали 0, 1, 2, 3, 4, 5 ответов"
   ]
  },
  {
   "cell_type": "code",
   "execution_count": null,
   "metadata": {},
   "outputs": [],
   "source": [
    "Всего вариантов проставления ответов в 5 вопросах по 4 варианта будет"
   ]
  },
  {
   "cell_type": "code",
   "execution_count": 43,
   "metadata": {},
   "outputs": [
    {
     "data": {
      "text/plain": [
       "1024"
      ]
     },
     "execution_count": 43,
     "metadata": {},
     "output_type": "execute_result"
    }
   ],
   "source": [
    "o=4**5\n",
    "o"
   ]
  },
  {
   "cell_type": "raw",
   "metadata": {},
   "source": [
    "Для угадывания 1 правильного ответа имеем 5 возможных случаев."
   ]
  },
  {
   "cell_type": "code",
   "execution_count": 48,
   "metadata": {},
   "outputs": [
    {
     "data": {
      "text/plain": [
       "5"
      ]
     },
     "execution_count": 48,
     "metadata": {},
     "output_type": "execute_result"
    }
   ],
   "source": [
    "combinations(5,1)"
   ]
  },
  {
   "cell_type": "raw",
   "metadata": {},
   "source": [
    "В каждом из 5 случаев в остальных вопросах имеем 81 возможных комбинаций итого:"
   ]
  },
  {
   "cell_type": "code",
   "execution_count": 46,
   "metadata": {},
   "outputs": [
    {
     "data": {
      "text/plain": [
       "405"
      ]
     },
     "execution_count": 46,
     "metadata": {},
     "output_type": "execute_result"
    }
   ],
   "source": [
    "r1 = 3**4 * 5\n",
    "r1"
   ]
  },
  {
   "cell_type": "code",
   "execution_count": 47,
   "metadata": {},
   "outputs": [
    {
     "data": {
      "text/plain": [
       "0.3955078125"
      ]
     },
     "execution_count": 47,
     "metadata": {},
     "output_type": "execute_result"
    }
   ],
   "source": [
    "p1=r1/o\n",
    "p1"
   ]
  },
  {
   "cell_type": "raw",
   "metadata": {},
   "source": [
    "Для угадывания 2 правильных ответов имеем 10 возможных комбинаций"
   ]
  },
  {
   "cell_type": "code",
   "execution_count": 49,
   "metadata": {},
   "outputs": [
    {
     "data": {
      "text/plain": [
       "10"
      ]
     },
     "execution_count": 49,
     "metadata": {},
     "output_type": "execute_result"
    }
   ],
   "source": [
    "combinations(5,2)"
   ]
  },
  {
   "cell_type": "raw",
   "metadata": {},
   "source": [
    "В каждом из 10 случаев в остальных вопросах имеем 27 возможных комбинаций итого:"
   ]
  },
  {
   "cell_type": "code",
   "execution_count": 50,
   "metadata": {},
   "outputs": [
    {
     "data": {
      "text/plain": [
       "270"
      ]
     },
     "execution_count": 50,
     "metadata": {},
     "output_type": "execute_result"
    }
   ],
   "source": [
    "r2 = 3**3 * 10\n",
    "r2"
   ]
  },
  {
   "cell_type": "code",
   "execution_count": 52,
   "metadata": {},
   "outputs": [
    {
     "data": {
      "text/plain": [
       "0.263671875"
      ]
     },
     "execution_count": 52,
     "metadata": {},
     "output_type": "execute_result"
    }
   ],
   "source": [
    "p2=r2/o\n",
    "p2"
   ]
  },
  {
   "cell_type": "code",
   "execution_count": null,
   "metadata": {},
   "outputs": [],
   "source": [
    "Аналогично рассчитываем для других случаев"
   ]
  },
  {
   "cell_type": "code",
   "execution_count": 53,
   "metadata": {},
   "outputs": [
    {
     "data": {
      "text/plain": [
       "90"
      ]
     },
     "execution_count": 53,
     "metadata": {},
     "output_type": "execute_result"
    }
   ],
   "source": [
    "r3 = 3**2 * 10\n",
    "r3"
   ]
  },
  {
   "cell_type": "code",
   "execution_count": 54,
   "metadata": {},
   "outputs": [
    {
     "data": {
      "text/plain": [
       "0.087890625"
      ]
     },
     "execution_count": 54,
     "metadata": {},
     "output_type": "execute_result"
    }
   ],
   "source": [
    "p3=r3/o\n",
    "p3"
   ]
  },
  {
   "cell_type": "code",
   "execution_count": 55,
   "metadata": {},
   "outputs": [
    {
     "data": {
      "text/plain": [
       "15"
      ]
     },
     "execution_count": 55,
     "metadata": {},
     "output_type": "execute_result"
    }
   ],
   "source": [
    "r4 = 3**1 * 5\n",
    "r4"
   ]
  },
  {
   "cell_type": "code",
   "execution_count": 56,
   "metadata": {},
   "outputs": [
    {
     "data": {
      "text/plain": [
       "0.0146484375"
      ]
     },
     "execution_count": 56,
     "metadata": {},
     "output_type": "execute_result"
    }
   ],
   "source": [
    "p4=r4/o\n",
    "p4"
   ]
  },
  {
   "cell_type": "code",
   "execution_count": 58,
   "metadata": {},
   "outputs": [
    {
     "data": {
      "text/plain": [
       "0.0009765625"
      ]
     },
     "execution_count": 58,
     "metadata": {},
     "output_type": "execute_result"
    }
   ],
   "source": [
    "r5=1\n",
    "p5=r5/o\n",
    "p5"
   ]
  },
  {
   "cell_type": "code",
   "execution_count": 59,
   "metadata": {},
   "outputs": [
    {
     "data": {
      "text/plain": [
       "0.2373046875"
      ]
     },
     "execution_count": 59,
     "metadata": {},
     "output_type": "execute_result"
    }
   ],
   "source": [
    "r0=3**5\n",
    "p0=r0/o\n",
    "p0"
   ]
  },
  {
   "cell_type": "raw",
   "metadata": {},
   "source": [
    "Выполняем проверку вероятности всех событий"
   ]
  },
  {
   "cell_type": "code",
   "execution_count": 60,
   "metadata": {},
   "outputs": [
    {
     "data": {
      "text/plain": [
       "1.0"
      ]
     },
     "execution_count": 60,
     "metadata": {},
     "output_type": "execute_result"
    }
   ],
   "source": [
    "p=p0+p1+p2+p3+p4+p5\n",
    "p"
   ]
  },
  {
   "cell_type": "raw",
   "metadata": {},
   "source": [
    "Случай           0\t      1          2\t      3\t       4   \t    5\n",
    "Вероятность  243/1024  405/1024  270/1024  90/1024  15/1024  1/1024"
   ]
  },
  {
   "cell_type": "code",
   "execution_count": 69,
   "metadata": {},
   "outputs": [],
   "source": [
    "s = np.array([0, 1, 2, 3, 4, 5])\n",
    "p = np.array([p0, p1, p2, p3, p4, p5])"
   ]
  },
  {
   "cell_type": "code",
   "execution_count": 70,
   "metadata": {},
   "outputs": [
    {
     "data": {
      "text/plain": [
       "1.25"
      ]
     },
     "execution_count": 70,
     "metadata": {},
     "output_type": "execute_result"
    }
   ],
   "source": [
    "M = s.dot(p)\n",
    "M"
   ]
  },
  {
   "cell_type": "code",
   "execution_count": 74,
   "metadata": {},
   "outputs": [
    {
     "name": "stdout",
     "output_type": "stream",
     "text": [
      "[ 1.5625  0.0625  0.5625  3.0625  7.5625 14.0625]\n"
     ]
    },
    {
     "data": {
      "text/plain": [
       "0.9375"
      ]
     },
     "execution_count": 74,
     "metadata": {},
     "output_type": "execute_result"
    }
   ],
   "source": [
    "h = s - M\n",
    "h = h ** 2\n",
    "D = h.dot(p)\n",
    "print(h)\n",
    "D"
   ]
  },
  {
   "cell_type": "markdown",
   "metadata": {},
   "source": [
    "## Задание 2"
   ]
  },
  {
   "cell_type": "raw",
   "metadata": {},
   "source": [
    "Вероятность поймать рыбу при одном забрасывании удочки равна 0.01. Какова вероятность того, что число пойманных рыб при 200 забросах удочки будет не менее 5 и не более 10?"
   ]
  },
  {
   "cell_type": "code",
   "execution_count": 76,
   "metadata": {},
   "outputs": [],
   "source": [
    "def poisson_proba(k, lambda_):\n",
    "    \n",
    "    return (lambda_ ** k) * (np.exp(-lambda_)) / np.math.factorial(k)"
   ]
  },
  {
   "cell_type": "code",
   "execution_count": 11,
   "metadata": {},
   "outputs": [],
   "source": [
    "def combinations(n, k):\n",
    "    return int(factorial(n) / (factorial(k) * factorial(n - k)))"
   ]
  },
  {
   "cell_type": "code",
   "execution_count": 12,
   "metadata": {},
   "outputs": [],
   "source": [
    "def binominal(n,k,p):\n",
    "    c1=combinations(n,k)\n",
    "    c2=p**k\n",
    "    c3=(1-p)**(n-k)\n",
    "    return c1*c2*c3"
   ]
  },
  {
   "cell_type": "code",
   "execution_count": null,
   "metadata": {},
   "outputs": [],
   "source": [
    "По распределению Пуассона"
   ]
  },
  {
   "cell_type": "code",
   "execution_count": 84,
   "metadata": {},
   "outputs": [
    {
     "name": "stdout",
     "output_type": "stream",
     "text": [
      "0.052644709119342686\n"
     ]
    }
   ],
   "source": [
    "l = 0.01*200\n",
    "k=range(5,11)\n",
    "p=0\n",
    "for i in k:\n",
    "    p=p+poisson_proba(i,l)\n",
    "print(p)"
   ]
  },
  {
   "cell_type": "raw",
   "metadata": {},
   "source": [
    "По биноманильному распределению"
   ]
  },
  {
   "cell_type": "code",
   "execution_count": 92,
   "metadata": {},
   "outputs": [
    {
     "name": "stdout",
     "output_type": "stream",
     "text": [
      "0.051739381860374606\n"
     ]
    }
   ],
   "source": [
    "p=0.01\n",
    "n=200\n",
    "k=range(5,11)\n",
    "px=0\n",
    "for i in k:\n",
    "    px=px+binominal(200,i,p)\n",
    "print(px)"
   ]
  },
  {
   "cell_type": "code",
   "execution_count": 108,
   "metadata": {},
   "outputs": [
    {
     "data": {
      "text/plain": [
       "0.12574021112620629"
      ]
     },
     "execution_count": 108,
     "metadata": {},
     "output_type": "execute_result"
    }
   ],
   "source": [
    "binominal(1000,10,0.01)"
   ]
  },
  {
   "cell_type": "markdown",
   "metadata": {},
   "source": [
    "## Задание 3\n",
    "В условиях предыдущей задачи сколько забросов удочки нужно сделать чтобы быть уверенным с вероятностью 0.9, что хотя бы 10 раз будет поймана рыба?"
   ]
  },
  {
   "cell_type": "raw",
   "metadata": {},
   "source": [
    "Хотя бы 10 раз поймать будет равно ситуации, что мы не поймали 9,8,7 ...,0 рыб. Тогда мы можем искать задачу, что не поймали указанное количество рыб с вероятностью 0,1.\n",
    "Если воспользовать формулой бинома и суммировать вероятность каждой ситуации получим целевое значение.\n",
    "В цикле подставляем в формулу количество забросов и отслеживаем, чтобо оно не оказалось меньше 0,1. Значит вероятность поймать будет 0,9.\n",
    "Ответ - 1418 раз."
   ]
  },
  {
   "cell_type": "code",
   "execution_count": 32,
   "metadata": {},
   "outputs": [
    {
     "name": "stdout",
     "output_type": "stream",
     "text": [
      "[0.10177554557586507, 0.1013281920783082, 0.10088247717997781, 0.10043839688639182, 0.09999594720013383]\n",
      "1418\n"
     ]
    }
   ],
   "source": [
    "pk = []\n",
    "p=0.01\n",
    "k=[0,1,2,3,4,5,6,7,8,9]\n",
    "pkns = 0\n",
    "n=1000\n",
    "while True:\n",
    "    pkn0 = binominal(n,k[0],p)\n",
    "    pkn1 = binominal(n,k[1],p)\n",
    "    pkn2 = binominal(n,k[2],p)\n",
    "    pkn3 = binominal(n,k[3],p)\n",
    "    pkn4 = binominal(n,k[4],p)\n",
    "    pkn5 = binominal(n,k[5],p)\n",
    "    pkn6 = binominal(n,k[6],p)\n",
    "    pkn7 = binominal(n,k[7],p)\n",
    "    pkn8 = binominal(n,k[8],p)\n",
    "    pkn9 = binominal(n,k[9],p)\n",
    "    pkn=pkn0+pkn1+pkn2+pkn3+pkn4+pkn5+pkn6+pkn7+pkn8+pkn9\n",
    "    pk.append(pkn)\n",
    "    if pkn<0.1:\n",
    "        break\n",
    "    else:\n",
    "        n+=1       \n",
    "print(pk[-3:])\n",
    "print(n)"
   ]
  }
 ],
 "metadata": {
  "kernelspec": {
   "display_name": "Python 3",
   "language": "python",
   "name": "python3"
  },
  "language_info": {
   "codemirror_mode": {
    "name": "ipython",
    "version": 3
   },
   "file_extension": ".py",
   "mimetype": "text/x-python",
   "name": "python",
   "nbconvert_exporter": "python",
   "pygments_lexer": "ipython3",
   "version": "3.8.5"
  }
 },
 "nbformat": 4,
 "nbformat_minor": 4
}
